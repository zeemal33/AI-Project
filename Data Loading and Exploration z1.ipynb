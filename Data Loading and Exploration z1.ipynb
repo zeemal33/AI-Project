{
  "nbformat": 4,
  "nbformat_minor": 0,
  "metadata": {
    "colab": {
      "provenance": []
    },
    "kernelspec": {
      "name": "python3",
      "display_name": "Python 3"
    },
    "language_info": {
      "name": "python"
    }
  },
  "cells": [
    {
      "cell_type": "code",
      "source": [
        "# Import libraries\n",
        "import pandas as pd\n",
        "\n",
        "\n",
        "# Explore the data\n",
        "print(data.head())\n",
        "print(data.info())\n",
        "print(data.describe())\n",
        "print(data.isnull().sum())\n"
      ],
      "metadata": {
        "colab": {
          "base_uri": "https://localhost:8080/"
        },
        "id": "_c0U41oJDqlO",
        "outputId": "9baa57f2-21c5-479f-cabb-05e1df645730"
      },
      "execution_count": 9,
      "outputs": [
        {
          "output_type": "stream",
          "name": "stdout",
          "text": [
            "   id  age     sex    dataset               cp  trestbps   chol    fbs  \\\n",
            "0   1   63    Male  Cleveland   typical angina     145.0  233.0   True   \n",
            "1   2   67    Male  Cleveland     asymptomatic     160.0  286.0  False   \n",
            "2   3   67    Male  Cleveland     asymptomatic     120.0  229.0  False   \n",
            "3   4   37    Male  Cleveland      non-anginal     130.0  250.0  False   \n",
            "4   5   41  Female  Cleveland  atypical angina     130.0  204.0  False   \n",
            "\n",
            "          restecg  thalch  exang  oldpeak        slope   ca  \\\n",
            "0  lv hypertrophy   150.0  False      2.3  downsloping  0.0   \n",
            "1  lv hypertrophy   108.0   True      1.5         flat  3.0   \n",
            "2  lv hypertrophy   129.0   True      2.6         flat  2.0   \n",
            "3          normal   187.0  False      3.5  downsloping  0.0   \n",
            "4  lv hypertrophy   172.0  False      1.4    upsloping  0.0   \n",
            "\n",
            "                thal  num  \n",
            "0       fixed defect    0  \n",
            "1             normal    2  \n",
            "2  reversable defect    1  \n",
            "3             normal    0  \n",
            "4             normal    0  \n",
            "<class 'pandas.core.frame.DataFrame'>\n",
            "RangeIndex: 920 entries, 0 to 919\n",
            "Data columns (total 16 columns):\n",
            " #   Column    Non-Null Count  Dtype  \n",
            "---  ------    --------------  -----  \n",
            " 0   id        920 non-null    int64  \n",
            " 1   age       920 non-null    int64  \n",
            " 2   sex       920 non-null    object \n",
            " 3   dataset   920 non-null    object \n",
            " 4   cp        920 non-null    object \n",
            " 5   trestbps  861 non-null    float64\n",
            " 6   chol      890 non-null    float64\n",
            " 7   fbs       830 non-null    object \n",
            " 8   restecg   918 non-null    object \n",
            " 9   thalch    865 non-null    float64\n",
            " 10  exang     865 non-null    object \n",
            " 11  oldpeak   858 non-null    float64\n",
            " 12  slope     611 non-null    object \n",
            " 13  ca        309 non-null    float64\n",
            " 14  thal      434 non-null    object \n",
            " 15  num       920 non-null    int64  \n",
            "dtypes: float64(5), int64(3), object(8)\n",
            "memory usage: 115.1+ KB\n",
            "None\n",
            "               id         age    trestbps        chol      thalch     oldpeak  \\\n",
            "count  920.000000  920.000000  861.000000  890.000000  865.000000  858.000000   \n",
            "mean   460.500000   53.510870  132.132404  199.130337  137.545665    0.878788   \n",
            "std    265.725422    9.424685   19.066070  110.780810   25.926276    1.091226   \n",
            "min      1.000000   28.000000    0.000000    0.000000   60.000000   -2.600000   \n",
            "25%    230.750000   47.000000  120.000000  175.000000  120.000000    0.000000   \n",
            "50%    460.500000   54.000000  130.000000  223.000000  140.000000    0.500000   \n",
            "75%    690.250000   60.000000  140.000000  268.000000  157.000000    1.500000   \n",
            "max    920.000000   77.000000  200.000000  603.000000  202.000000    6.200000   \n",
            "\n",
            "               ca         num  \n",
            "count  309.000000  920.000000  \n",
            "mean     0.676375    0.995652  \n",
            "std      0.935653    1.142693  \n",
            "min      0.000000    0.000000  \n",
            "25%      0.000000    0.000000  \n",
            "50%      0.000000    1.000000  \n",
            "75%      1.000000    2.000000  \n",
            "max      3.000000    4.000000  \n",
            "id            0\n",
            "age           0\n",
            "sex           0\n",
            "dataset       0\n",
            "cp            0\n",
            "trestbps     59\n",
            "chol         30\n",
            "fbs          90\n",
            "restecg       2\n",
            "thalch       55\n",
            "exang        55\n",
            "oldpeak      62\n",
            "slope       309\n",
            "ca          611\n",
            "thal        486\n",
            "num           0\n",
            "dtype: int64\n"
          ]
        }
      ]
    }
  ]
}